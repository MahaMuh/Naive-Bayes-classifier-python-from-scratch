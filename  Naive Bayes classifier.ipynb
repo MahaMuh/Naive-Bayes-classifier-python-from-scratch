{
 "cells": [
  {
   "cell_type": "markdown",
   "id": "be8766c0",
   "metadata": {},
   "source": [
    "### You have a set of customers reviews (training set) and a classification as shown in below. "
   ]
  },
  {
   "cell_type": "code",
   "execution_count": 1,
   "id": "14aa7eee",
   "metadata": {},
   "outputs": [],
   "source": [
    "reviews=[['he likes the restaurant'],['he dislikes the restaurant'],['wonderful restaurant'],\n",
    "         ['great service and fantastic food']]\n",
    "labels=['positive','negitive','positive','positive' ]"
   ]
  },
  {
   "cell_type": "code",
   "execution_count": 2,
   "id": "db86f735",
   "metadata": {},
   "outputs": [
    {
     "name": "stdout",
     "output_type": "stream",
     "text": [
      "['he likes the restaurant', 'he dislikes the restaurant', 'wonderful restaurant', 'great service and fantastic food']\n"
     ]
    }
   ],
   "source": [
    "flat_lst = []\n",
    "for sublst in reviews:\n",
    "     for i in sublst:\n",
    "            flat_lst.append(i)\n",
    "            \n",
    "print(flat_lst)"
   ]
  },
  {
   "cell_type": "markdown",
   "id": "b971786c",
   "metadata": {},
   "source": [
    "#### <font color='purple'> 1)  Writing a function to return the number of all unique words in the training set</font>"
   ]
  },
  {
   "cell_type": "code",
   "execution_count": 3,
   "id": "33cc67fc",
   "metadata": {},
   "outputs": [
    {
     "data": {
      "text/plain": [
       "array([[0, 0, 0, 0, 0, 1, 1, 1, 0, 1, 0],\n",
       "       [0, 1, 0, 0, 0, 1, 0, 1, 0, 1, 0],\n",
       "       [0, 0, 0, 0, 0, 0, 0, 1, 0, 0, 1],\n",
       "       [1, 0, 1, 1, 1, 0, 0, 0, 1, 0, 0]], dtype=int64)"
      ]
     },
     "execution_count": 3,
     "metadata": {},
     "output_type": "execute_result"
    }
   ],
   "source": [
    "from sklearn.feature_extraction.text import CountVectorizer\n",
    "# vectorize the training set\n",
    "count_vect = CountVectorizer()\n",
    "count_vect.fit_transform(flat_lst).toarray()"
   ]
  },
  {
   "cell_type": "code",
   "execution_count": 4,
   "id": "d60deb10",
   "metadata": {},
   "outputs": [
    {
     "data": {
      "text/plain": [
       "11"
      ]
     },
     "execution_count": 4,
     "metadata": {},
     "output_type": "execute_result"
    }
   ],
   "source": [
    "def get_length_of_unique_words(corpus): \n",
    "    unique_Word=count_vect.get_feature_names()\n",
    "    return len(unique_Word)\n",
    "\n",
    "get_length_of_unique_words(flat_lst)"
   ]
  },
  {
   "cell_type": "markdown",
   "id": "7f0905a5",
   "metadata": {},
   "source": [
    "#### <font color='purple'> 2)  Writing a function to return the number of all words in given class</font>"
   ]
  },
  {
   "cell_type": "code",
   "execution_count": 5,
   "id": "87f71ebf",
   "metadata": {},
   "outputs": [],
   "source": [
    "def get_length_of_all_words_for_given_class(corpus,All_labels, given_class):    \n",
    "    corpus_dictionary = dict(zip(corpus,All_labels))\n",
    "    count=0\n",
    "    for key, value in corpus_dictionary.items():\n",
    "        if value== given_class:\n",
    "            count=count+len(key.split())\n",
    "    return count"
   ]
  },
  {
   "cell_type": "code",
   "execution_count": 6,
   "id": "5af8ada4",
   "metadata": {},
   "outputs": [
    {
     "name": "stdout",
     "output_type": "stream",
     "text": [
      "4\n",
      "11\n"
     ]
    }
   ],
   "source": [
    "label='negitive'\n",
    "all_words_len_for_negitive_class=get_length_of_all_words_for_given_class(flat_lst,labels,label)\n",
    "print(all_words_len_for_negitive_class)\n",
    "\n",
    "label='positive'\n",
    "all_words_len_for_positive_class=get_length_of_all_words_for_given_class(flat_lst,labels,label)\n",
    "print(all_words_len_for_positive_class)"
   ]
  },
  {
   "cell_type": "markdown",
   "id": "57e3d818",
   "metadata": {},
   "source": [
    "#### <font color='purple'> 3)  Writing a function to return the occurance of given word in spcific class</font>"
   ]
  },
  {
   "cell_type": "code",
   "execution_count": 7,
   "id": "8e657512",
   "metadata": {},
   "outputs": [],
   "source": [
    "def get_of_occurance_of_word_in_given_class(word,corpus,labels, given_class):  \n",
    "    corpus_dictionary = dict(zip(corpus,labels))\n",
    "    lst=[]\n",
    "    for key, value in corpus_dictionary.items():\n",
    "        if value== given_class:\n",
    "            lst+=key.split()\n",
    "    return lst.count(word)    "
   ]
  },
  {
   "cell_type": "code",
   "execution_count": 8,
   "id": "2cc466e7",
   "metadata": {},
   "outputs": [
    {
     "data": {
      "text/plain": [
       "1"
      ]
     },
     "execution_count": 8,
     "metadata": {},
     "output_type": "execute_result"
    }
   ],
   "source": [
    "word='restaurant'                                                              \n",
    "get_of_occurance_of_word_in_given_class(word,flat_lst, labels, 'negitive')"
   ]
  },
  {
   "cell_type": "markdown",
   "id": "04dcdfc8",
   "metadata": {},
   "source": [
    "#### <font color='purple'> 4)  Writing a function to calculate the  prior probablity for given class</font>"
   ]
  },
  {
   "cell_type": "code",
   "execution_count": 9,
   "id": "f8aa0f99",
   "metadata": {},
   "outputs": [
    {
     "data": {
      "text/plain": [
       "0.25"
      ]
     },
     "execution_count": 9,
     "metadata": {},
     "output_type": "execute_result"
    }
   ],
   "source": [
    "def get_prior_prob(c):                                \n",
    "    corpus_dictionary = dict(zip(flat_lst,labels))\n",
    "    count=0\n",
    "    for key, value in corpus_dictionary.items():\n",
    "        if value== c:\n",
    "            count+=1    \n",
    "    return (count/len(flat_lst))\n",
    "\n",
    "get_prior_prob('negitive')  "
   ]
  },
  {
   "cell_type": "markdown",
   "id": "b8ebc6f6",
   "metadata": {},
   "source": [
    "#### <font color='purple'> 5)  Writing a function to caclulate the likelihood for a word given a class p(word|class)</font>"
   ]
  },
  {
   "cell_type": "code",
   "execution_count": 10,
   "id": "10631ff5",
   "metadata": {},
   "outputs": [
    {
     "data": {
      "text/plain": [
       "0.13333333333333333"
      ]
     },
     "execution_count": 10,
     "metadata": {},
     "output_type": "execute_result"
    }
   ],
   "source": [
    "def get_likelihood_for_given_word(corpus, all_labels, word, given_class):\n",
    "    V=get_length_of_unique_words(corpus)\n",
    "    Len_of_all_words_for_given_class=get_length_of_all_words_for_given_class(corpus,all_labels, given_class)\n",
    "    word='restaurant'\n",
    "    occurance_ =get_of_occurance_of_word_in_given_class(word, corpus, labels, given_class)\n",
    "    \n",
    "    ## apply the formula\n",
    "    likeihood=(occurance_+1)/(Len_of_all_words_for_given_class+V)\n",
    "    return likeihood\n",
    "\n",
    "get_likelihood_for_given_word(flat_lst, labels, 'restaurant', 'negitive')"
   ]
  }
 ],
 "metadata": {
  "kernelspec": {
   "display_name": "Python 3",
   "language": "python",
   "name": "python3"
  },
  "language_info": {
   "codemirror_mode": {
    "name": "ipython",
    "version": 3
   },
   "file_extension": ".py",
   "mimetype": "text/x-python",
   "name": "python",
   "nbconvert_exporter": "python",
   "pygments_lexer": "ipython3",
   "version": "3.8.8"
  }
 },
 "nbformat": 4,
 "nbformat_minor": 5
}
